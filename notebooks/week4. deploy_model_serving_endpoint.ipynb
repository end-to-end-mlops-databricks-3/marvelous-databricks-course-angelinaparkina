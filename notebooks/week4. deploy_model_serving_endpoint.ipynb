{
 "cells": [
  {
   "cell_type": "code",
   "execution_count": 0,
   "metadata": {
    "application/vnd.databricks.v1+cell": {
     "cellMetadata": {
      "byteLimit": 2048000,
      "rowLimit": 10000
     },
     "inputWidgets": {},
     "nuid": "e337604a-4621-46af-a3b2-095990ff9a67",
     "showTitle": false,
     "tableResultSettingsMap": {},
     "title": ""
    }
   },
   "outputs": [],
   "source": [
    "%pip install -e .."
   ]
  },
  {
   "cell_type": "code",
   "execution_count": 0,
   "metadata": {
    "application/vnd.databricks.v1+cell": {
     "cellMetadata": {
      "byteLimit": 2048000,
      "rowLimit": 10000
     },
     "inputWidgets": {},
     "nuid": "7ee26f72-2e48-4c8c-90f3-59fdc43c010f",
     "showTitle": false,
     "tableResultSettingsMap": {},
     "title": ""
    }
   },
   "outputs": [],
   "source": [
    "%pip install git+https://github.com/end-to-end-mlops-databricks-3/marvelous"
   ]
  },
  {
   "cell_type": "code",
   "execution_count": 0,
   "metadata": {
    "application/vnd.databricks.v1+cell": {
     "cellMetadata": {
      "byteLimit": 2048000,
      "rowLimit": 10000
     },
     "inputWidgets": {},
     "nuid": "604054af-92c4-4706-9544-2753d172030f",
     "showTitle": false,
     "tableResultSettingsMap": {},
     "title": ""
    }
   },
   "outputs": [],
   "source": [
    "%restart_python"
   ]
  },
  {
   "cell_type": "code",
   "execution_count": 0,
   "metadata": {
    "application/vnd.databricks.v1+cell": {
     "cellMetadata": {
      "byteLimit": 2048000,
      "rowLimit": 10000
     },
     "inputWidgets": {},
     "nuid": "2577c414-db93-4785-8c11-11fca0bb9ca6",
     "showTitle": false,
     "tableResultSettingsMap": {},
     "title": ""
    }
   },
   "outputs": [],
   "source": [
    "import sys\n",
    "from pathlib import Path\n",
    "\n",
    "sys.path.append(str(Path.cwd().parent / \"src\"))"
   ]
  },
  {
   "cell_type": "code",
   "execution_count": 0,
   "metadata": {
    "application/vnd.databricks.v1+cell": {
     "cellMetadata": {
      "byteLimit": 2048000,
      "rowLimit": 10000
     },
     "inputWidgets": {},
     "nuid": "21f81e20-fa2f-4248-992d-4ff2fec7f917",
     "showTitle": false,
     "tableResultSettingsMap": {},
     "title": ""
    }
   },
   "outputs": [],
   "source": [
    "import os\n",
    "import time\n",
    "from typing import Dict, List\n",
    "\n",
    "import requests\n",
    "from loguru import logger\n",
    "from pyspark.dbutils import DBUtils\n",
    "from pyspark.sql import SparkSession\n",
    "\n",
    "from hotel_reservations.config import ProjectConfig\n",
    "from hotel_reservations.serving.model_serving import ModelServing"
   ]
  },
  {
   "cell_type": "code",
   "execution_count": 0,
   "metadata": {
    "application/vnd.databricks.v1+cell": {
     "cellMetadata": {
      "byteLimit": 2048000,
      "rowLimit": 10000
     },
     "inputWidgets": {},
     "nuid": "5283daa3-f69e-400b-ba89-7109082e6eeb",
     "showTitle": false,
     "tableResultSettingsMap": {},
     "title": ""
    }
   },
   "outputs": [],
   "source": [
    "# spark session\n",
    "\n",
    "spark = SparkSession.builder.getOrCreate()\n",
    "dbutils = DBUtils(spark)"
   ]
  },
  {
   "cell_type": "code",
   "execution_count": 0,
   "metadata": {
    "application/vnd.databricks.v1+cell": {
     "cellMetadata": {
      "byteLimit": 2048000,
      "rowLimit": 10000
     },
     "inputWidgets": {},
     "nuid": "21b55238-eed8-44cc-905f-d37e691df9b5",
     "showTitle": false,
     "tableResultSettingsMap": {},
     "title": ""
    }
   },
   "outputs": [],
   "source": [
    "# get environment variables\n",
    "os.environ[\"DBR_TOKEN\"] = dbutils.notebook.entry_point.getDbutils().notebook().getContext().apiToken().get()\n",
    "os.environ[\"DBR_HOST\"] = spark.conf.get(\"spark.databricks.workspaceUrl\")"
   ]
  },
  {
   "cell_type": "code",
   "execution_count": 0,
   "metadata": {
    "application/vnd.databricks.v1+cell": {
     "cellMetadata": {
      "byteLimit": 2048000,
      "rowLimit": 10000
     },
     "inputWidgets": {},
     "nuid": "29118249-40b7-4055-8221-8be4dbc122d2",
     "showTitle": false,
     "tableResultSettingsMap": {},
     "title": ""
    }
   },
   "outputs": [],
   "source": [
    "# Load project config\n",
    "config = ProjectConfig.from_yaml(config_path=\"../project_config.yml\")\n",
    "catalog_name = config.catalog_name\n",
    "schema_name = config.schema_name\n",
    "endpoint_name = \"angelina-hotel-reservations-model-serving\""
   ]
  },
  {
   "cell_type": "code",
   "execution_count": 0,
   "metadata": {
    "application/vnd.databricks.v1+cell": {
     "cellMetadata": {
      "byteLimit": 2048000,
      "rowLimit": 10000
     },
     "inputWidgets": {},
     "nuid": "4abebc20-0fdc-4149-8ff8-7dc16ce8eea9",
     "showTitle": false,
     "tableResultSettingsMap": {},
     "title": ""
    }
   },
   "outputs": [],
   "source": [
    "# Initialize feature store manager\n",
    "model_serving = ModelServing(\n",
    "    model_name=f\"{catalog_name}.{schema_name}.hotel_reservations_model_custom\", endpoint_name=endpoint_name\n",
    ")"
   ]
  },
  {
   "cell_type": "code",
   "execution_count": 0,
   "metadata": {
    "application/vnd.databricks.v1+cell": {
     "cellMetadata": {
      "byteLimit": 2048000,
      "rowLimit": 10000
     },
     "inputWidgets": {},
     "nuid": "848d9eea-3c01-4637-a97b-dab99b8b6058",
     "showTitle": false,
     "tableResultSettingsMap": {},
     "title": ""
    }
   },
   "outputs": [],
   "source": [
    "# Deploy the model serving endpoint\n",
    "model_serving.deploy_or_update_serving_endpoint()"
   ]
  },
  {
   "cell_type": "code",
   "execution_count": 0,
   "metadata": {
    "application/vnd.databricks.v1+cell": {
     "cellMetadata": {},
     "inputWidgets": {},
     "nuid": "1886c181-392c-4a2d-b2dc-56c95b91d36b",
     "showTitle": false,
     "tableResultSettingsMap": {},
     "title": ""
    }
   },
   "outputs": [],
   "source": [
    "# Create a sample request body\n",
    "required_columns = [\n",
    "\"no_of_adults\",\n",
    "\"no_of_children\",\n",
    "\"no_of_weekend_nights\",\n",
    "\"avg_price_per_room\",\n",
    "\"no_of_special_requests\",\n",
    "\"no_of_previous_cancellations\",\n",
    "\"repeated_guest\",\n",
    "\"lead_time\",\n",
    "\"type_of_meal_plan\",\n",
    "\"room_type_reserved\",\n",
    "\"market_segment_type\",\n",
    "\"Booking_ID\"\n",
    "]\n",
    "\n",
    "spark = SparkSession.builder.getOrCreate()\n",
    "\n",
    "train_set = spark.table(f\"{config.catalog_name}.{config.schema_name}.train_set\").toPandas()\n",
    "sampled_records = train_set[required_columns].sample(n=1000, replace=True).to_dict(orient=\"records\")\n",
    "dataframe_records = [[record] for record in sampled_records]\n",
    "\n",
    "logger.info(train_set.dtypes)\n",
    "logger.info(dataframe_records[0])"
   ]
  },
  {
   "cell_type": "code",
   "execution_count": 0,
   "metadata": {
    "application/vnd.databricks.v1+cell": {
     "cellMetadata": {},
     "inputWidgets": {},
     "nuid": "bff5e5e4-fcaa-4bc9-8455-b3dbd1511a82",
     "showTitle": false,
     "tableResultSettingsMap": {},
     "title": ""
    }
   },
   "outputs": [],
   "source": [
    "# Call the endpoint with one sample record\n",
    "def call_endpoint(record):\n",
    "    \"\"\"\n",
    "    Calls the model serving endpoint with a given input record.\n",
    "    \"\"\"\n",
    "    serving_endpoint = f\"https://{os.environ['DBR_HOST']}/serving-endpoints/{endpoint_name}/invocations\"\n",
    "\n",
    "    response = requests.post(\n",
    "        serving_endpoint,\n",
    "        headers={\"Authorization\": f\"Bearer {os.environ['DBR_TOKEN']}\"},\n",
    "        json={\"dataframe_records\": record},\n",
    "    )\n",
    "    return response.status_code, response.text\n",
    "\n",
    "\n",
    "status_code, response_text = call_endpoint(dataframe_records[0])\n",
    "print(f\"Response Status: {status_code}\")\n",
    "print(f\"Response Text: {response_text}\")"
   ]
  },
  {
   "cell_type": "code",
   "execution_count": 0,
   "metadata": {
    "application/vnd.databricks.v1+cell": {
     "cellMetadata": {},
     "inputWidgets": {},
     "nuid": "3a075883-18ee-4cc8-9eac-328d77b0b615",
     "showTitle": false,
     "tableResultSettingsMap": {},
     "title": ""
    }
   },
   "outputs": [],
   "source": [
    "# Load test\n",
    "for i in range(len(dataframe_records)):\n",
    "    status_code, response_text = call_endpoint(dataframe_records[i])\n",
    "    print(f\"Response Status: {status_code}\")\n",
    "    print(f\"Response Text: {response_text}\")\n",
    "    time.sleep(0.2)"
   ]
  }
 ],
 "metadata": {
  "application/vnd.databricks.v1+notebook": {
   "computePreferences": null,
   "dashboards": [],
   "environmentMetadata": {
    "base_environment": "",
    "environment_version": "2"
   },
   "inputWidgetPreferences": null,
   "language": "python",
   "notebookMetadata": {
    "pythonIndentUnit": 4
   },
   "notebookName": "week4. deploy_model_serving_endpoint",
   "widgets": {}
  },
  "language_info": {
   "name": "python"
  }
 },
 "nbformat": 4,
 "nbformat_minor": 0
}
